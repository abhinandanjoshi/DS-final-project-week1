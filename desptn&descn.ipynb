{
 "cells": [
  {
   "cell_type": "markdown",
   "metadata": {},
   "source": [
    "<h1>Road Accident(Buisness Problem)</h1>\n"
   ]
  },
  {
   "cell_type": "markdown",
   "metadata": {},
   "source": [
    "1.How severe the road accident will be moderate high low.</br>\n",
    "2.speed of the vehicle and seveity of accident(x,y).</br>\n",
    "3.ObjectId .</br>\n",
    "4.Number of reports of the road accident .</br>\n",
    "5.Status of the road accident(died/alive).</br>\n",
    "6.Address of the victim(home/office).</br>\n",
    "7.Integer key is the key used.</br>\n",
    "8.Location of the accident.</br>\n",
    "9.Accepted Rationalisation sevierity number code.</br>\n",
    "10.The day light condition of the vehicle which he travels.</br>\n",
    "11.Pedestrian road row not granted.</br>\n",
    "12.Speeding of a vehicle.</br>\n",
    "13.The code of column.</br>\n",
    "14.The descent of column.</br>\n",
    "15.Hit parked car(Yes/No).</br>\n",
    "16.Type of the collisions taken.</br>\n",
    "17.Number of persons in road accident.</br>\n",
    "18.Pedestrians in the road accidents.</br>\n",
    "19.pedestrians who cycles on the footpath count.</br>\n",
    "20.Number of vehicles inn the road accident.</br>\n",
    "21.Incremental Date and Time.</br>\n",
    "22.Type of Junction.</br>\n",
    "23.Type of column and column code.</br>\n",
    "24.people paying attention to the traffic.</br>\n",
    "25.under the inflation .</br>\n",
    "26.Impact of the whether on the road.\n",
    "\n"
   ]
  },
  {
   "cell_type": "markdown",
   "metadata": {},
   "source": [
    "With an increase in the number of car accidents happened in our community , a model is required to be developed in order to predict how severe an accident would be based on whether conditions"
   ]
  },
  {
   "cell_type": "markdown",
   "metadata": {},
   "source": [
    "<h1>Introduction/Buisness Problem</h1>\n",
    "With an increase number of car accidents happened in our community, a model is required to be developed in order to predict how \n",
    "severe an accient would be based on the weather condition,road condition,location etc. This project is focusing on developing a \n",
    "machine learning model to predict the severity of the car collision based on the big dataset gathered from the community"
   ]
  },
  {
   "cell_type": "markdown",
   "metadata": {},
   "source": [
    "<h1>Data</h1>\n",
    "Severity codes are as fallows</br> \n",
    "0: Little to no probability (clear conditions)</br>\n",
    "1: Very Low probability-chance or property damage</br>\n",
    "2: Low probability-chance of Injury</br>\n",
    "3: Mild probability-chance of serious injury</br>\n",
    "4: High probability-chance of fatality</br>"
   ]
  },
  {
   "cell_type": "markdown",
   "metadata": {},
   "source": [
    "<h1>The original data set has the fallowing problems:</h1>\n",
    "It has too many attributes (37)</br>\n",
    "It has an unbalanced dataset(SEVERITYCODE column)</br>\n",
    "so some changes are applied to this dataset "
   ]
  },
  {
   "cell_type": "markdown",
   "metadata": {},
   "source": []
  }
 ],
 "metadata": {
  "kernelspec": {
   "display_name": "Python",
   "language": "python",
   "name": "conda-env-python-py"
  },
  "language_info": {
   "codemirror_mode": {
    "name": "ipython",
    "version": 3
   },
   "file_extension": ".py",
   "mimetype": "text/x-python",
   "name": "python",
   "nbconvert_exporter": "python",
   "pygments_lexer": "ipython3",
   "version": "3.6.11"
  }
 },
 "nbformat": 4,
 "nbformat_minor": 4
}
